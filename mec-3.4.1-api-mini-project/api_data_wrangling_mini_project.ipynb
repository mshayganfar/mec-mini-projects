{
 "cells": [
  {
   "cell_type": "markdown",
   "metadata": {},
   "source": [
    "This exercise will require you to pull some data from https://data.nasdaq.com/ (formerly Quandl API)."
   ]
  },
  {
   "cell_type": "markdown",
   "metadata": {},
   "source": [
    "As a first step, you will need to register a free account on the https://data.nasdaq.com/ website."
   ]
  },
  {
   "cell_type": "markdown",
   "metadata": {},
   "source": [
    "After you register, you will be provided with a unique API key, that you should store:\n",
    "\n",
    "*Note*: Use a `.env` file and put your key in there and `python-dotenv` to access it in this notebook. \n",
    "\n",
    "The code below uses a key that was used when generating this project but has since been deleted. Never submit your keys to source control. There is a `.env-example` file in this repository to illusrtate what you need. Copy that to a file called `.env` and use your own api key in that `.env` file. Make sure you also have a `.gitignore` file with a line for `.env` added to it. \n",
    "\n",
    "The standard Python gitignore is [here](https://github.com/github/gitignore/blob/master/Python.gitignore) you can just copy that. "
   ]
  },
  {
   "cell_type": "code",
   "execution_count": null,
   "metadata": {},
   "outputs": [],
   "source": [
    "pip install python-dotenv"
   ]
  },
  {
   "cell_type": "code",
   "execution_count": 1,
   "metadata": {},
   "outputs": [],
   "source": [
    "# get api key from your .env file\n",
    "import os\n",
    "from dotenv import load_dotenv  # if missing this module, simply run `pip install python-dotenv`\n",
    "\n",
    "load_dotenv()\n",
    "API_KEY = os.getenv('NASDAQ_API_KEY')\n",
    "\n",
    "# print(API_KEY)"
   ]
  },
  {
   "cell_type": "markdown",
   "metadata": {},
   "source": [
    "Nasdaq Data has a large number of data sources, but, unfortunately, most of them require a Premium subscription. Still, there are also a good number of free datasets."
   ]
  },
  {
   "cell_type": "markdown",
   "metadata": {},
   "source": [
    "For this mini project, we will focus on equities data from the Frankfurt Stock Exhange (FSE), which is available for free. We'll try and analyze the stock prices of a company called Carl Zeiss Meditec, which manufactures tools for eye examinations, as well as medical lasers for laser eye surgery: https://www.zeiss.com/meditec/int/home.html. The company is listed under the stock ticker AFX_X."
   ]
  },
  {
   "cell_type": "markdown",
   "metadata": {},
   "source": [
    "You can find the detailed Nasdaq Data API instructions here: https://docs.data.nasdaq.com/docs/in-depth-usage"
   ]
  },
  {
   "cell_type": "markdown",
   "metadata": {},
   "source": [
    "While there is a dedicated Python package for connecting to the Nasdaq API, we would prefer that you use the *requests* package, which can be easily downloaded using *pip* or *conda*. You can find the documentation for the package here: http://docs.python-requests.org/en/master/ "
   ]
  },
  {
   "cell_type": "markdown",
   "metadata": {},
   "source": [
    "Finally, apart from the *requests* package, you are encouraged to not use any third party Python packages, such as *pandas*, and instead focus on what's available in the Python Standard Library (the *collections* module might come in handy: https://pymotw.com/3/collections/).\n",
    "Also, since you won't have access to DataFrames, you are encouraged to us Python's native data structures - preferably dictionaries, though some questions can also be answered using lists.\n",
    "You can read more on these data structures here: https://docs.python.org/3/tutorial/datastructures.html"
   ]
  },
  {
   "cell_type": "markdown",
   "metadata": {},
   "source": [
    "Keep in mind that the JSON responses you will be getting from the API map almost one-to-one to Python's dictionaries. Unfortunately, they can be very nested, so make sure you read up on indexing dictionaries in the documentation provided above."
   ]
  },
  {
   "cell_type": "code",
   "execution_count": 2,
   "metadata": {},
   "outputs": [],
   "source": [
    "# First, import the relevant modules\n",
    "import json\n",
    "import requests\n",
    "from requests.exceptions import HTTPError"
   ]
  },
  {
   "cell_type": "markdown",
   "metadata": {},
   "source": [
    "Note: API's can change a bit with each version, for this exercise it is reccomended to use the nasdaq api at `https://data.nasdaq.com/api/v3/`. This is the same api as what used to be quandl so `https://www.quandl.com/api/v3/` should work too.\n",
    "\n",
    "Hint: We are looking for the `AFX_X` data on the `datasets/FSE/` dataset."
   ]
  },
  {
   "cell_type": "code",
   "execution_count": 3,
   "metadata": {},
   "outputs": [
    {
     "name": "stdout",
     "output_type": "stream",
     "text": [
      "First approach: \n",
      "\n",
      "Date = 2020-12-01\n",
      "Open = 112.2\n",
      "High = 112.2\n",
      "Low = 111.5\n",
      "Close = 112.0\n",
      "Change = None\n",
      "Traded Volume = 51.0\n",
      "Turnover = 5703.0\n",
      "Last Price of the Day = None\n",
      "Daily Traded Units = None\n",
      "Daily Turnover = None\n",
      "\n",
      "Second approach: \n",
      "\n",
      "Date = 2020-12-01\n",
      "Open = 112.2\n",
      "High = 112.2\n",
      "Low = 111.5\n",
      "Close = 112.0\n",
      "Change = None\n",
      "Traded Volume = 51.0\n",
      "Turnover = 5703.0\n",
      "Last Price of the Day = None\n",
      "Daily Traded Units = None\n",
      "Daily Turnover = None\n"
     ]
    }
   ],
   "source": [
    "# Now, call the Nasdaq API and pull out a small sample of the data (only one day) to get a glimpse\n",
    "# into the JSON structure that will be returned\n",
    "try:\n",
    "    response = requests.get('https://data.nasdaq.com/api/v3/datasets/FSE/AFX_X')\n",
    "    response.raise_for_status()\n",
    "    jsonResponse = response.json()\n",
    "\n",
    "    # I use two different way of indexing:\n",
    "    # In the first apporach I apply list to the dictionaries:\n",
    "    response_values = list(jsonResponse.values())\n",
    "    list_response_items = list(response_values[0].items())\n",
    "\n",
    "    print(\"First approach: \\n\")\n",
    "    for i in range(len(list_response_items[8][1])):\n",
    "        print(f\"{list_response_items[8][1][i]} = {list_response_items[17][1][0][i]}\")\n",
    "    \n",
    "    # In the second apporach I use the keys in the dictionaries:\n",
    "    print(\"\\nSecond approach: \\n\")\n",
    "    list_column_names = list(response_values[0]['column_names'])\n",
    "    list_first_data_values = list(response_values[0]['data'][0])\n",
    "    for i in range(len(list_column_names)):\n",
    "        print(f\"{list_column_names[i]} = {list_first_data_values[i]}\")\n",
    "    \n",
    "except HTTPError as http_err:\n",
    "    print(f\"HTTP error occurred: {http_err}\")\n",
    "except Exception as exp:\n",
    "    print(f\"Exception occurred: {exp}\")"
   ]
  },
  {
   "cell_type": "code",
   "execution_count": null,
   "metadata": {},
   "outputs": [],
   "source": [
    "# Inspect the JSON structure of the object you created, and take note of how nested it is,\n",
    "# as well as the overall structure"
   ]
  },
  {
   "cell_type": "markdown",
   "metadata": {},
   "source": [
    "These are your tasks for this mini project:\n",
    "\n",
    "1. Collect data from the Franfurt Stock Exchange, for the ticker AFX_X, for the whole year 2017 (keep in mind that the date format is YYYY-MM-DD).\n",
    "2. Convert the returned JSON object into a Python dictionary.\n",
    "3. Calculate what the highest and lowest opening prices were for the stock in this period.\n",
    "4. What was the largest change in any one day (based on High and Low price)?\n",
    "5. What was the largest change between any two days (based on Closing Price)?\n",
    "6. What was the average daily trading volume during this year?\n",
    "7. (Optional) What was the median trading volume during this year. (Note: you may need to implement your own function for calculating the median.)"
   ]
  },
  {
   "cell_type": "code",
   "execution_count": null,
   "metadata": {},
   "outputs": [],
   "source": [
    "# Tasks #1 & #2\n",
    "\n",
    "list_column_names = list(response_values[0]['column_names'])\n",
    "list_data_values = list(response_values[0]['data'])\n",
    "\n",
    "dict_all_prices = {}\n",
    "for price_data in list_data_values:\n",
    "    dict_prices = {}\n",
    "    if price_data[0][0:4] == '2017':\n",
    "        for i in range(1, len(price_data)):\n",
    "            dict_prices[list_column_names[i]] = price_data[i]\n",
    "        dict_all_prices[price_data[0]] = dict_prices\n",
    "print (dict_all_prices)"
   ]
  },
  {
   "cell_type": "code",
   "execution_count": null,
   "metadata": {},
   "outputs": [],
   "source": [
    "# Task #3\n",
    "\n",
    "highest_opening_price = 0\n",
    "lowest_opening_price = 1000\n",
    "\n",
    "for prices in dict_all_prices.values():\n",
    "    if prices['Open'] is not None:\n",
    "        if highest_opening_price < prices['Open']:\n",
    "            highest_opening_price = prices['Open']\n",
    "\n",
    "        if lowest_opening_price > prices['Open']:\n",
    "            lowest_opening_price = prices['Open']\n",
    "    \n",
    "print(f\"Highest opening price: {highest_opening_price}\")\n",
    "print(f\"Lowest opening price: {lowest_opening_price}\")"
   ]
  },
  {
   "cell_type": "code",
   "execution_count": null,
   "metadata": {},
   "outputs": [],
   "source": [
    "# Task #4\n",
    "\n",
    "largest_price_change = 0\n",
    "\n",
    "dict_all_prices_values = dict_all_prices.values()\n",
    "for prices in dict_all_prices_values:\n",
    "    if prices['High'] is not None and prices['Low'] is not None:\n",
    "        if largest_price_change < (prices['High']-prices['Low']):\n",
    "            largest_price_change = prices['High']-prices['Low']\n",
    "            \n",
    "print(f\"Largest price change in one day: {largest_price_change:.2f}\")"
   ]
  },
  {
   "cell_type": "code",
   "execution_count": null,
   "metadata": {},
   "outputs": [],
   "source": [
    "# Task #5\n",
    "# Note: I assumed that the question is NOT asking for any two *consecutive* days.\n",
    "\n",
    "largest_price_change = 0\n",
    "\n",
    "list_all_prices_values = list(dict_all_prices.values())\n",
    "for i in range(len(list_all_prices_values)):\n",
    "    for j in range(i+1, len(list_all_prices_values)):\n",
    "        if list_all_prices_values[i]['Close'] is not None and list_all_prices_values[j]['Close'] is not None:\n",
    "            if largest_price_change < abs(list_all_prices_values[i]['Close']-list_all_prices_values[j]['Close']):\n",
    "                largest_price_change = abs(list_all_prices_values[i]['Close']-list_all_prices_values[j]['Close'])\n",
    "            \n",
    "print(f\"Largest price change between two days: {largest_price_change:.2f}\")"
   ]
  },
  {
   "cell_type": "code",
   "execution_count": null,
   "metadata": {},
   "outputs": [],
   "source": [
    "# Task #6\n",
    "\n",
    "sum_daily_traded_volume = 0\n",
    "count_days = 0\n",
    "\n",
    "dict_all_prices_values = dict_all_prices.values()\n",
    "for prices in dict_all_prices_values:\n",
    "    if prices['Traded Volume'] is not None:\n",
    "        sum_daily_traded_volume += prices['Traded Volume']\n",
    "        count_days += 1\n",
    "\n",
    "average_daily_traded_volume = sum_daily_traded_volume / count_days\n",
    "\n",
    "print(f\"Average daily traded colume: {average_daily_traded_volume:.2f}\")"
   ]
  },
  {
   "cell_type": "code",
   "execution_count": null,
   "metadata": {},
   "outputs": [],
   "source": [
    "# Task #7\n",
    "\n",
    "list_traded_volume = []\n",
    "\n",
    "dict_all_prices_values = dict_all_prices.values()\n",
    "for prices in dict_all_prices_values:\n",
    "    if prices['Traded Volume'] is not None:\n",
    "        list_traded_volume.append(prices['Traded Volume'])\n",
    "\n",
    "list_traded_volume.sort()\n",
    "\n",
    "print(f\"Median daily trading colume: {list_traded_volume[int(len(list_traded_volume)/2)+1]:.2f}\")"
   ]
  }
 ],
 "metadata": {
  "interpreter": {
   "hash": "4885f37acae9217c235118400878352aafa7b76e66df698a1f601374f86939a7"
  },
  "kernelspec": {
   "display_name": "Python 3",
   "language": "python",
   "name": "python3"
  },
  "language_info": {
   "codemirror_mode": {
    "name": "ipython",
    "version": 3
   },
   "file_extension": ".py",
   "mimetype": "text/x-python",
   "name": "python",
   "nbconvert_exporter": "python",
   "pygments_lexer": "ipython3",
   "version": "3.8.3"
  }
 },
 "nbformat": 4,
 "nbformat_minor": 4
}
